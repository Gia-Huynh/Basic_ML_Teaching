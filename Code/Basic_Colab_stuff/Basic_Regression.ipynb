{
  "nbformat": 4,
  "nbformat_minor": 0,
  "metadata": {
    "colab": {
      "name": "Untitled2.ipynb",
      "provenance": [],
      "collapsed_sections": [],
      "include_colab_link": true
    },
    "kernelspec": {
      "name": "python3",
      "display_name": "Python 3"
    }
  },
  "cells": [
    {
      "cell_type": "markdown",
      "metadata": {
        "id": "view-in-github",
        "colab_type": "text"
      },
      "source": [
        "<a href=\"https://colab.research.google.com/github/GiaHuynh/ML_coban/blob/master/Basic_Colab_stuff/Basic_Regression.ipynb\" target=\"_parent\"><img src=\"https://colab.research.google.com/assets/colab-badge.svg\" alt=\"Open In Colab\"/></a>"
      ]
    },
    {
      "cell_type": "code",
      "metadata": {
        "id": "Lu4XEBI-wbM4",
        "colab_type": "code",
        "colab": {}
      },
      "source": [
        "import keras\n",
        "import numpy as np\n",
        "from keras.models import Sequential\n",
        "from keras.layers.core import Dense"
      ],
      "execution_count": 0,
      "outputs": []
    },
    {
      "cell_type": "code",
      "metadata": {
        "id": "JFYfRCDzwryQ",
        "colab_type": "code",
        "colab": {}
      },
      "source": [
        "x_data = np.array([0, 1, 2, 4, 6, 7, 9, 10, 12, 13, 15, 17, 0],)\n",
        "y_data = np.array([1, 3, 5, 9, 13, 15, 19, 21, 25, 27, 31, 35, 1],)\n",
        "#x_data = np.array((0, 1, 2, 4, 6, 7))\n",
        "#y_data = np.array((3, 5, 7, 11, 15, 17))\n",
        "#y = 2*x + 1"
      ],
      "execution_count": 0,
      "outputs": []
    },
    {
      "cell_type": "code",
      "metadata": {
        "id": "YDrUaxsGwsQz",
        "colab_type": "code",
        "colab": {}
      },
      "source": [
        "model = Sequential()\n",
        "model.add(Dense(1,input_shape=(1,), kernel_initializer=keras.initializers.Constant(1.5)))\n",
        "model.compile(loss='mean_squared_error', optimizer=\"Adam\")\n",
        "model.fit (x_data, y_data, batch_size=12, epochs=1000)\n",
        "model.predict ([5])"
      ],
      "execution_count": 0,
      "outputs": []
    },
    {
      "cell_type": "code",
      "metadata": {
        "id": "gHmJQscQ4fWq",
        "colab_type": "code",
        "colab": {}
      },
      "source": [
        "model.predict (x_data)"
      ],
      "execution_count": 0,
      "outputs": []
    },
    {
      "cell_type": "code",
      "metadata": {
        "id": "P9O_7VQExGi8",
        "colab_type": "code",
        "colab": {}
      },
      "source": [
        ""
      ],
      "execution_count": 0,
      "outputs": []
    }
  ]
}